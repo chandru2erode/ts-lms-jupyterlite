{
  "nbformat": 4,
  "nbformat_minor": 0,
  "metadata": {
    "colab": {
      "provenance": []
    },
    "kernelspec": {
      "name": "python3",
      "display_name": "Python 3"
    },
    "language_info": {
      "name": "python"
    }
  },
  "cells": [
    {
      "cell_type": "markdown",
      "source": [
        "# **Variables**\n",
        "\n",
        "A memory location that stores values or a data unit whith in a program\n",
        "- this can be accesed and changed during the program run time\n",
        "- value can be called up through a variable name\n",
        "\n",
        "A value can be anything such as number, character, string, float..etc\n",
        "\n",
        "It is created by using Assignment operator\n",
        "\n",
        "**Rules for naming a variable:** called as an identifier\n",
        "\n",
        "- A variable can only begin with (A-Z/a-z) or with an _(underscore)\n",
        "- The rest of the identifier may contain (a-z/A-Z) or with an _ or with the numbers(0-9)\n",
        "- These are case sensitive\n",
        "\n",
        "eg: accepted: spam, eggs, spam23, _speed X, X1, X33, AB_, _S1\n",
        "unacceptable: 23spam, #sign, var1.2\n",
        "\n",
        "- reserved keywords cannot be used as variable names as they are already reserved, There are 33 reserved keywords in python\n",
        "\n",
        "\n"
      ],
      "metadata": {
        "id": "TOsMovfvEGRc"
      }
    },
    {
      "cell_type": "code",
      "source": [
        "#First variable \n",
        "\n",
        "X = 12.2  #here = is the assignment operator, X is the variable, and 12.2 is the assigned value\n",
        "print(X)  "
      ],
      "metadata": {
        "colab": {
          "base_uri": "https://localhost:8080/"
        },
        "id": "c54jz4G3FctD",
        "outputId": "a2b07c22-fdc0-435b-e1ab-acd1c0d0de51"
      },
      "execution_count": null,
      "outputs": [
        {
          "output_type": "stream",
          "name": "stdout",
          "text": [
            "12.2\n"
          ]
        }
      ]
    },
    {
      "cell_type": "code",
      "source": [
        "X = 100\n",
        "print(X) #here x is assigned another value hence now x value is 100"
      ],
      "metadata": {
        "colab": {
          "base_uri": "https://localhost:8080/"
        },
        "id": "W2mYl0VCY-me",
        "outputId": "af053801-57a7-47a6-e3b9-50e93c2c2697"
      },
      "execution_count": null,
      "outputs": [
        {
          "output_type": "stream",
          "name": "stdout",
          "text": [
            "100\n"
          ]
        }
      ]
    },
    {
      "cell_type": "code",
      "source": [
        "# Keywords in Python\n",
        "\n",
        "import keyword\n",
        "\n",
        "print(keyword.kwlist) #These are the reserved keywords and cannot be used as variables"
      ],
      "metadata": {
        "colab": {
          "base_uri": "https://localhost:8080/"
        },
        "id": "h-wSGOf8HAV-",
        "outputId": "d98e8719-d3b6-4cec-9c47-cac4746cbb53"
      },
      "execution_count": null,
      "outputs": [
        {
          "output_type": "stream",
          "name": "stdout",
          "text": [
            "['False', 'None', 'True', 'and', 'as', 'assert', 'async', 'await', 'break', 'class', 'continue', 'def', 'del', 'elif', 'else', 'except', 'finally', 'for', 'from', 'global', 'if', 'import', 'in', 'is', 'lambda', 'nonlocal', 'not', 'or', 'pass', 'raise', 'return', 'try', 'while', 'with', 'yield']\n"
          ]
        }
      ]
    },
    {
      "cell_type": "markdown",
      "source": [
        "Mnemonic Variable\n",
        "\n",
        "- these are the memory aids, says us to choose simple variable names not using reserved words.\n",
        "- Variable should reflect our intent on what data is stored in a variable\n",
        "- Lastly we need to create a variable which makes more sense while using them\n",
        "\n",
        "For example, here are three programs which differentiates the difference:\n"
      ],
      "metadata": {
        "id": "40fz_kfwM23a"
      }
    },
    {
      "cell_type": "code",
      "source": [
        "# first example\n",
        "x1q329acd = 35.0\n",
        "x1q3z9afd = 12.50\n",
        "x1q3pq9afd = x1q329acd * x1q3z9afd\n",
        "print(x1q3pq9afd)"
      ],
      "metadata": {
        "colab": {
          "base_uri": "https://localhost:8080/"
        },
        "id": "7RPlCy4VL4wy",
        "outputId": "d772e3f9-28d8-4522-a129-9a467f62ccd5"
      },
      "execution_count": null,
      "outputs": [
        {
          "output_type": "stream",
          "name": "stdout",
          "text": [
            "437.5\n"
          ]
        }
      ]
    },
    {
      "cell_type": "code",
      "source": [
        "# second example\n",
        "a = 35.0\n",
        "b = 12.50\n",
        "c = a*b\n",
        "print(c)"
      ],
      "metadata": {
        "colab": {
          "base_uri": "https://localhost:8080/"
        },
        "id": "yuvTSxVdNxjD",
        "outputId": "ffa31ae3-de8c-4a39-dfe7-2f13c9e165e8"
      },
      "execution_count": null,
      "outputs": [
        {
          "output_type": "stream",
          "name": "stdout",
          "text": [
            "437.5\n"
          ]
        }
      ]
    },
    {
      "cell_type": "code",
      "source": [
        "#third example\n",
        "hrs = 35.0  # this has the clear understanding of why we used those variables\n",
        "rate = 12.50\n",
        "pay = hrs*rate\n",
        "print(pay) "
      ],
      "metadata": {
        "colab": {
          "base_uri": "https://localhost:8080/"
        },
        "id": "EC5G2ke_N214",
        "outputId": "8a0acd8f-9ab4-4d64-a5a4-9c1301bf1676"
      },
      "execution_count": null,
      "outputs": [
        {
          "output_type": "stream",
          "name": "stdout",
          "text": [
            "437.5\n"
          ]
        }
      ]
    },
    {
      "cell_type": "markdown",
      "source": [
        "**Constant**\n",
        "\n",
        "Constant is a types of variable whose value cannot be changed\n",
        "- python doesn't have built in constant types, but by convention, the variable name with all capital letters used to define a constant.\n",
        "\n",
        "eg: FILE_SIZE_LIMIT = 2000,         \n",
        "    PI = 3.14"
      ],
      "metadata": {
        "id": "A2i9DzI7OTn4"
      }
    },
    {
      "cell_type": "markdown",
      "source": [
        "**Variable Data Types**\n",
        "Based on the data type of the variable, python allocates memory and decides what can be stored\n",
        " 1. NUMERIC:\n",
        "      - Int     X = 10\n",
        "      - float   X = 10.5\n",
        "      - complex X = 10+0j\n",
        " 2. SEQUENCE:\n",
        "      - strings x = \"hi my name is\" or x = 'hi my name is'\n",
        "      - List \n",
        "      - Tuple\n",
        " 3. Others:\n",
        "      - Boolean\n",
        "      - set\n",
        "      - Dictionaries \n"
      ],
      "metadata": {
        "id": "x2ZA0U6jRIFb"
      }
    },
    {
      "cell_type": "markdown",
      "source": [
        "Strongly typed: the variables do have a type and the type matters while doing the operations on variables\n",
        "\n",
        "dynamically typed: type is determined only during run time\n",
        "\n",
        "here some of the operations are prohibited for performing for example, performing addition on int and string datatypes"
      ],
      "metadata": {
        "id": "J_9bmAP-SzNL"
      }
    },
    {
      "cell_type": "code",
      "source": [
        "a = 17\n",
        "b = 'hello'\n",
        "c = a+b # here it should perform concatination not addition hence it throws error"
      ],
      "metadata": {
        "colab": {
          "base_uri": "https://localhost:8080/",
          "height": 201
        },
        "id": "Y0v-WE0COEgx",
        "outputId": "988759db-5500-460c-f19b-3a65b56f1d83"
      },
      "execution_count": null,
      "outputs": [
        {
          "output_type": "error",
          "ename": "TypeError",
          "evalue": "ignored",
          "traceback": [
            "\u001b[0;31m---------------------------------------------------------------------------\u001b[0m",
            "\u001b[0;31mTypeError\u001b[0m                                 Traceback (most recent call last)",
            "\u001b[0;32m<ipython-input-6-9fba8a188f34>\u001b[0m in \u001b[0;36m<cell line: 3>\u001b[0;34m()\u001b[0m\n\u001b[1;32m      1\u001b[0m \u001b[0ma\u001b[0m \u001b[0;34m=\u001b[0m \u001b[0;36m2\u001b[0m\u001b[0;34m\u001b[0m\u001b[0;34m\u001b[0m\u001b[0m\n\u001b[1;32m      2\u001b[0m \u001b[0mb\u001b[0m \u001b[0;34m=\u001b[0m \u001b[0;34m'hi'\u001b[0m\u001b[0;34m\u001b[0m\u001b[0;34m\u001b[0m\u001b[0m\n\u001b[0;32m----> 3\u001b[0;31m \u001b[0mc\u001b[0m \u001b[0;34m=\u001b[0m \u001b[0ma\u001b[0m\u001b[0;34m+\u001b[0m\u001b[0mb\u001b[0m\u001b[0;34m\u001b[0m\u001b[0;34m\u001b[0m\u001b[0m\n\u001b[0m",
            "\u001b[0;31mTypeError\u001b[0m: unsupported operand type(s) for +: 'int' and 'str'"
          ]
        }
      ]
    },
    {
      "cell_type": "code",
      "source": [
        "# Type conversion (can be checked the type of data of the variable by type() function)\n",
        "x = 10 \n",
        "type(x)\n",
        "a = 'hello'\n",
        "type(a)"
      ],
      "metadata": {
        "colab": {
          "base_uri": "https://localhost:8080/"
        },
        "id": "YVcOu04nTuRC",
        "outputId": "6aab2b22-1ea8-4fc1-fdfb-fe4cd9955921"
      },
      "execution_count": null,
      "outputs": [
        {
          "output_type": "execute_result",
          "data": {
            "text/plain": [
              "str"
            ]
          },
          "metadata": {},
          "execution_count": 6
        }
      ]
    },
    {
      "cell_type": "code",
      "source": [
        "type(4)"
      ],
      "metadata": {
        "colab": {
          "base_uri": "https://localhost:8080/"
        },
        "id": "dbH4XOr_V4ls",
        "outputId": "aec36ea8-e34f-4802-95f2-93e94aec3886"
      },
      "execution_count": null,
      "outputs": [
        {
          "output_type": "execute_result",
          "data": {
            "text/plain": [
              "int"
            ]
          },
          "metadata": {},
          "execution_count": 9
        }
      ]
    },
    {
      "cell_type": "code",
      "source": [
        "type('17.1')"
      ],
      "metadata": {
        "colab": {
          "base_uri": "https://localhost:8080/"
        },
        "id": "bmHsLFovV82S",
        "outputId": "e2eb0343-b0ba-41ba-ab11-27eda514b0ed"
      },
      "execution_count": null,
      "outputs": [
        {
          "output_type": "execute_result",
          "data": {
            "text/plain": [
              "str"
            ]
          },
          "metadata": {},
          "execution_count": 10
        }
      ]
    },
    {
      "cell_type": "markdown",
      "source": [
        "**Statements** : these are unit of code in python interpretor\n",
        "\n",
        "a = 2   Assignment statement\n",
        "\n",
        "a = a+2  assignment with expression\n",
        "\n",
        "print(a)  print statement\n",
        "\n",
        "There are two types of statements in python:\n",
        "- Single line statement - Assign a value to a variable\n",
        "\n",
        "- Multi line statement - A statement may span over several lines - Preferred style to handle multi-line expressions is to break a long statement over multiple lines, wrap the expression inside parentheses, braces, & brackets - Another way to wrap multiple lines is by using a backslash () at the end of every line to indicate line continuation"
      ],
      "metadata": {
        "id": "bfUsk9CxUM8D"
      }
    },
    {
      "cell_type": "markdown",
      "source": [
        "**Expressions**\n",
        "\n",
        "Thesea are the combination of values, variables and operators\n",
        "- it may consist of one or more operands and 0 or more operators to produce a value\n",
        "- operators are +,-,*,%...etc\n",
        "\n",
        "order of operators(precedence): should know which operatior should perform first\n",
        "- python follows PEMDAS rule i.e., paranthisis,exponential,multiplication,division,reminder,addition and subtraction and performs Left to right"
      ],
      "metadata": {
        "id": "LvKHRUJEWQpT"
      }
    },
    {
      "cell_type": "code",
      "source": [
        "final = a+5 #here final is the variable, a&5 are operands, + is operator combining called as expression"
      ],
      "metadata": {
        "id": "fEx4HAwXZ569"
      },
      "execution_count": null,
      "outputs": []
    },
    {
      "cell_type": "code",
      "source": [
        "# Arithmetic expressions\n",
        "a = 5\n",
        "b = 10\n",
        "x1 = a+b #addition\n",
        "x2 = a-b # subtraction\n",
        "x3 = a*b # multiplication\n",
        "x4 = a/b # floating division\n",
        "x5 = a//b # truncating division\n",
        "x6 = a%b  # modulo\n",
        "x7 = a**b # exponential\n",
        "print(x1)\n",
        "print(x2)\n",
        "print(x3)\n",
        "print(x4)\n",
        "print(x5)\n",
        "print(x6)\n",
        "print(x7)\n",
        "\n"
      ],
      "metadata": {
        "colab": {
          "base_uri": "https://localhost:8080/"
        },
        "id": "j6ZFbBrZUDxe",
        "outputId": "11d83626-6c3c-4702-85b3-66cbc6968aaf"
      },
      "execution_count": null,
      "outputs": [
        {
          "output_type": "stream",
          "name": "stdout",
          "text": [
            "15\n",
            "-5\n",
            "50\n",
            "0.5\n",
            "0\n",
            "5\n",
            "9765625\n"
          ]
        }
      ]
    },
    {
      "cell_type": "code",
      "source": [
        "#order of operation example\n",
        "\n",
        "x = 1+2**3/4*5  # here first paranthisis is done followed by exponential followed by multiplication and division\n",
        "print(x)"
      ],
      "metadata": {
        "colab": {
          "base_uri": "https://localhost:8080/"
        },
        "id": "e5SAfJAkZny3",
        "outputId": "4f7ae288-433c-4691-de87-065eac4b3f27"
      },
      "execution_count": null,
      "outputs": [
        {
          "output_type": "stream",
          "name": "stdout",
          "text": [
            "11.0\n"
          ]
        }
      ]
    },
    {
      "cell_type": "markdown",
      "source": [
        "**Type conversion**\n",
        "\n",
        "we have two types of type conversions\n",
        "1. explicit type conversion: which can be done manuall, supports various built in type conversion funtions such as int(), float(), str()...etc      \n",
        "    syntax: required_datatype(expression)\n",
        "\n",
        "2. Implicit type conversion: here python interpreter automatically convertes during the run time\n",
        "- converts smallerr data type to longer data type to avoid losses\n",
        "\n",
        "eg: addition of a integer and float value results in float value\n",
        "\n",
        "- it has problem with all the conversions because it does not suport all the data types, for example addition of str and integer or float, it throws error as it is not a numeric"
      ],
      "metadata": {
        "id": "gcDRX2dZbKFc"
      }
    },
    {
      "cell_type": "code",
      "source": [
        "# explicit type conversion\n",
        "x = '30'\n",
        "y = '8'\n",
        "q = float(x)*float(y) # here we can converting str() to int() manually and performing operations\n",
        "print(q)"
      ],
      "metadata": {
        "colab": {
          "base_uri": "https://localhost:8080/"
        },
        "id": "qlvAK2Q8ae7n",
        "outputId": "456039b2-8836-4ef9-a798-821076d09a8f"
      },
      "execution_count": null,
      "outputs": [
        {
          "output_type": "stream",
          "name": "stdout",
          "text": [
            "240.0\n"
          ]
        }
      ]
    },
    {
      "cell_type": "code",
      "source": [
        "# implicit type conversion\n",
        "x = 123\n",
        "y = 1.23\n",
        "z = x+y\n",
        "print(z)\n",
        "type(z)"
      ],
      "metadata": {
        "colab": {
          "base_uri": "https://localhost:8080/"
        },
        "id": "Lqn23fjIcDNd",
        "outputId": "fd75a94e-3ad6-4059-fb92-f771b27fb0b1"
      },
      "execution_count": null,
      "outputs": [
        {
          "output_type": "stream",
          "name": "stdout",
          "text": [
            "124.23\n"
          ]
        },
        {
          "output_type": "execute_result",
          "data": {
            "text/plain": [
              "float"
            ]
          },
          "metadata": {},
          "execution_count": 10
        }
      ]
    },
    {
      "cell_type": "code",
      "source": [
        "x = 123\n",
        "y = '456'\n",
        "z = x+y\n",
        "print(z)"
      ],
      "metadata": {
        "colab": {
          "base_uri": "https://localhost:8080/",
          "height": 218
        },
        "id": "dK2Wpxwidq6A",
        "outputId": "104a1b13-3645-4e38-8260-e127791ecbde"
      },
      "execution_count": null,
      "outputs": [
        {
          "output_type": "error",
          "ename": "TypeError",
          "evalue": "ignored",
          "traceback": [
            "\u001b[0;31m---------------------------------------------------------------------------\u001b[0m",
            "\u001b[0;31mTypeError\u001b[0m                                 Traceback (most recent call last)",
            "\u001b[0;32m<ipython-input-11-309c9d567c4d>\u001b[0m in \u001b[0;36m<cell line: 3>\u001b[0;34m()\u001b[0m\n\u001b[1;32m      1\u001b[0m \u001b[0mx\u001b[0m \u001b[0;34m=\u001b[0m \u001b[0;36m123\u001b[0m\u001b[0;34m\u001b[0m\u001b[0;34m\u001b[0m\u001b[0m\n\u001b[1;32m      2\u001b[0m \u001b[0my\u001b[0m \u001b[0;34m=\u001b[0m \u001b[0;34m'456'\u001b[0m\u001b[0;34m\u001b[0m\u001b[0;34m\u001b[0m\u001b[0m\n\u001b[0;32m----> 3\u001b[0;31m \u001b[0mz\u001b[0m \u001b[0;34m=\u001b[0m \u001b[0mx\u001b[0m\u001b[0;34m+\u001b[0m\u001b[0my\u001b[0m\u001b[0;34m\u001b[0m\u001b[0;34m\u001b[0m\u001b[0m\n\u001b[0m\u001b[1;32m      4\u001b[0m \u001b[0mprint\u001b[0m\u001b[0;34m(\u001b[0m\u001b[0mz\u001b[0m\u001b[0;34m)\u001b[0m\u001b[0;34m\u001b[0m\u001b[0;34m\u001b[0m\u001b[0m\n",
            "\u001b[0;31mTypeError\u001b[0m: unsupported operand type(s) for +: 'int' and 'str'"
          ]
        }
      ]
    },
    {
      "cell_type": "markdown",
      "source": [
        "**USER INPUT**\n",
        "python allows user to give input at the runtime by usint input() function\n",
        "\n",
        "converting user input: if we want to convert the string to number from the input we need to use type conversion function, as all the inputs are strings"
      ],
      "metadata": {
        "id": "zxEnM7ASdbGE"
      }
    },
    {
      "cell_type": "code",
      "source": [
        "name = input(\"who are you\")\n",
        "print(\"welcome\",name)"
      ],
      "metadata": {
        "colab": {
          "base_uri": "https://localhost:8080/"
        },
        "id": "-mjSi7FGdThh",
        "outputId": "61b31297-d8d5-4524-d6eb-c58f6c7f3b59"
      },
      "execution_count": null,
      "outputs": [
        {
          "output_type": "stream",
          "name": "stdout",
          "text": [
            "who are youram\n",
            "welcome ram\n"
          ]
        }
      ]
    },
    {
      "cell_type": "code",
      "source": [
        "# converting user input\n",
        "x = float(input(\"enter number\")) # it takes input as string and converts to int\n",
        "y = x+1\n",
        "print(y)\n",
        "type(y)"
      ],
      "metadata": {
        "colab": {
          "base_uri": "https://localhost:8080/"
        },
        "id": "bjUIyqPBd20G",
        "outputId": "f555645a-dd4c-48bd-a847-487fd71d3227"
      },
      "execution_count": null,
      "outputs": [
        {
          "output_type": "stream",
          "name": "stdout",
          "text": [
            "enter number24\n",
            "25.0\n"
          ]
        },
        {
          "output_type": "execute_result",
          "data": {
            "text/plain": [
              "float"
            ]
          },
          "metadata": {},
          "execution_count": 13
        }
      ]
    },
    {
      "cell_type": "markdown",
      "source": [
        "**Comments in python**\n",
        "These are used to explain the code in python and it can be anything.\n",
        "- these are represented by # for single line comments, and ''' ''' for multiple line comments\n",
        "- the matter written after # and in between ''' ''' are ignored by the interpreter."
      ],
      "metadata": {
        "id": "0yIWAaxwe1qx"
      }
    },
    {
      "cell_type": "code",
      "source": [
        "# these are comments and there are not printed at the time of output\n",
        "''' these are multiple line comments\n",
        "the comments which are written to explain the code, \n",
        "these are also avoided by the interpreter and are not executed but shows at the output'''"
      ],
      "metadata": {
        "colab": {
          "base_uri": "https://localhost:8080/",
          "height": 52
        },
        "id": "dslshFivfQJU",
        "outputId": "7674f65f-bcd0-46f6-f9ad-6ce8f8172704"
      },
      "execution_count": null,
      "outputs": [
        {
          "output_type": "execute_result",
          "data": {
            "text/plain": [
              "' these are multiple line comments\\nthe comments which are written to explain the code, \\nthese are also avoided by the interpreter and are not executed but shows at the output'"
            ],
            "application/vnd.google.colaboratory.intrinsic+json": {
              "type": "string"
            }
          },
          "metadata": {},
          "execution_count": 23
        }
      ]
    }
  ]
}